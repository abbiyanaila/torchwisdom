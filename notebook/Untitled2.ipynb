{
 "cells": [
  {
   "cell_type": "code",
   "execution_count": 9,
   "metadata": {},
   "outputs": [],
   "source": [
    "import numpy as np\n",
    "weight_hid_to_out = np.random.rand(6,1)"
   ]
  },
  {
   "cell_type": "code",
   "execution_count": 15,
   "metadata": {},
   "outputs": [
    {
     "data": {
      "text/plain": [
       "array([[0.40037409],\n",
       "       [0.71355378],\n",
       "       [0.68819741],\n",
       "       [0.54239472],\n",
       "       [0.68295447],\n",
       "       [0.96063641]])"
      ]
     },
     "execution_count": 15,
     "metadata": {},
     "output_type": "execute_result"
    }
   ],
   "source": [
    "weight_hid_to_out"
   ]
  },
  {
   "cell_type": "code",
   "execution_count": 19,
   "metadata": {},
   "outputs": [
    {
     "data": {
      "text/plain": [
       "array([[0.80074818, 1.42710757, 1.37639482, 1.08478945, 1.36590894,\n",
       "        1.92127283]])"
      ]
     },
     "execution_count": 19,
     "metadata": {},
     "output_type": "execute_result"
    }
   ],
   "source": [
    "y = 5\n",
    "y_hat = np.array([3])\n",
    "error = y - y_hat\n",
    "\n",
    "hidden_error = error * weight_hid_to_out.T\n",
    "hidden_error"
   ]
  },
  {
   "cell_type": "code",
   "execution_count": 13,
   "metadata": {},
   "outputs": [
    {
     "data": {
      "text/plain": [
       "(6, 1)"
      ]
     },
     "execution_count": 13,
     "metadata": {},
     "output_type": "execute_result"
    }
   ],
   "source": [
    "hid_err = error * weight_hid_to_out\n",
    "hid_err.shape"
   ]
  },
  {
   "cell_type": "code",
   "execution_count": 20,
   "metadata": {},
   "outputs": [
    {
     "data": {
      "text/plain": [
       "(4, 1)"
      ]
     },
     "execution_count": 20,
     "metadata": {},
     "output_type": "execute_result"
    }
   ],
   "source": [
    "X = np.array([4,6,8,9])\n",
    "X[:, None].shape"
   ]
  },
  {
   "cell_type": "code",
   "execution_count": 25,
   "metadata": {},
   "outputs": [],
   "source": [
    "import torch\n",
    "import torch.nn as nn"
   ]
  },
  {
   "cell_type": "code",
   "execution_count": 22,
   "metadata": {},
   "outputs": [
    {
     "data": {
      "text/plain": [
       "array([[0.93568029, 0.26708892, 0.43923858, 0.272292  , 0.08545174,\n",
       "        0.18475155]])"
      ]
     },
     "execution_count": 22,
     "metadata": {},
     "output_type": "execute_result"
    }
   ],
   "source": [
    "np.random.rand(1,6)"
   ]
  },
  {
   "cell_type": "code",
   "execution_count": 23,
   "metadata": {},
   "outputs": [
    {
     "data": {
      "text/plain": [
       "tensor([[0.4088, 0.1468, 0.1783, 0.9239, 0.2200, 0.6791]])"
      ]
     },
     "execution_count": 23,
     "metadata": {},
     "output_type": "execute_result"
    }
   ],
   "source": [
    "torch.rand(1,6)"
   ]
  },
  {
   "cell_type": "code",
   "execution_count": 26,
   "metadata": {},
   "outputs": [],
   "source": [
    "in_hid = nn.Linear(4,8)\n",
    "hid_out = nn.Linear(8,1)"
   ]
  },
  {
   "cell_type": "code",
   "execution_count": 29,
   "metadata": {},
   "outputs": [
    {
     "data": {
      "text/plain": [
       "tensor([[-0.2166]], grad_fn=<AddmmBackward>)"
      ]
     },
     "execution_count": 29,
     "metadata": {},
     "output_type": "execute_result"
    }
   ],
   "source": [
    "input = torch.rand(1,4)\n",
    "x = in_hid.forward(input)\n",
    "x = hid_out.forward(x)\n",
    "x"
   ]
  },
  {
   "cell_type": "code",
   "execution_count": 1,
   "metadata": {},
   "outputs": [],
   "source": [
    "%matplotlib inline\n",
    "%load_ext autoreload\n",
    "%autoreload 2"
   ]
  },
  {
   "cell_type": "code",
   "execution_count": 5,
   "metadata": {},
   "outputs": [],
   "source": [
    "import pandas as pd\n",
    "from torchwisdom.statemgr.state import StateManager, Logger, Store"
   ]
  },
  {
   "cell_type": "code",
   "execution_count": 6,
   "metadata": {},
   "outputs": [
    {
     "data": {
      "text/html": [
       "<div>\n",
       "<style scoped>\n",
       "    .dataframe tbody tr th:only-of-type {\n",
       "        vertical-align: middle;\n",
       "    }\n",
       "\n",
       "    .dataframe tbody tr th {\n",
       "        vertical-align: top;\n",
       "    }\n",
       "\n",
       "    .dataframe thead th {\n",
       "        text-align: right;\n",
       "    }\n",
       "</style>\n",
       "<table border=\"1\" class=\"dataframe\">\n",
       "  <thead>\n",
       "    <tr style=\"text-align: right;\">\n",
       "      <th></th>\n",
       "      <th>id</th>\n",
       "      <th>name</th>\n",
       "      <th>desc</th>\n",
       "      <th>datetime</th>\n",
       "    </tr>\n",
       "  </thead>\n",
       "  <tbody>\n",
       "    <tr>\n",
       "      <th>0</th>\n",
       "      <td>2c1fbdf09b53e928a1661e1f0b46b055a1652ae1</td>\n",
       "      <td>NaN</td>\n",
       "      <td>NaN</td>\n",
       "      <td>2019-04-17 10:21:06.039692</td>\n",
       "    </tr>\n",
       "  </tbody>\n",
       "</table>\n",
       "</div>"
      ],
      "text/plain": [
       "                                         id  name  desc  \\\n",
       "0  2c1fbdf09b53e928a1661e1f0b46b055a1652ae1   NaN   NaN   \n",
       "\n",
       "                     datetime  \n",
       "0  2019-04-17 10:21:06.039692  "
      ]
     },
     "execution_count": 6,
     "metadata": {},
     "output_type": "execute_result"
    }
   ],
   "source": [
    "df = pd.read_csv('~/.torchwisdom/state/main.csv')\n",
    "df"
   ]
  },
  {
   "cell_type": "code",
   "execution_count": 14,
   "metadata": {},
   "outputs": [
    {
     "data": {
      "text/html": [
       "<div>\n",
       "<style scoped>\n",
       "    .dataframe tbody tr th:only-of-type {\n",
       "        vertical-align: middle;\n",
       "    }\n",
       "\n",
       "    .dataframe tbody tr th {\n",
       "        vertical-align: top;\n",
       "    }\n",
       "\n",
       "    .dataframe thead th {\n",
       "        text-align: right;\n",
       "    }\n",
       "</style>\n",
       "<table border=\"1\" class=\"dataframe\">\n",
       "  <thead>\n",
       "    <tr style=\"text-align: right;\">\n",
       "      <th></th>\n",
       "      <th>id</th>\n",
       "      <th>name</th>\n",
       "      <th>desc</th>\n",
       "      <th>datetime</th>\n",
       "    </tr>\n",
       "  </thead>\n",
       "  <tbody>\n",
       "    <tr>\n",
       "      <th>0</th>\n",
       "      <td>2c1fbdf09b53e928a1661e1f0b46b055a1652ae1</td>\n",
       "      <td>NaN</td>\n",
       "      <td>NaN</td>\n",
       "      <td>2019-04-17 10:21:06.039692</td>\n",
       "    </tr>\n",
       "  </tbody>\n",
       "</table>\n",
       "</div>"
      ],
      "text/plain": [
       "                                         id  name  desc  \\\n",
       "0  2c1fbdf09b53e928a1661e1f0b46b055a1652ae1   NaN   NaN   \n",
       "\n",
       "                     datetime  \n",
       "0  2019-04-17 10:21:06.039692  "
      ]
     },
     "execution_count": 14,
     "metadata": {},
     "output_type": "execute_result"
    }
   ],
   "source": [
    "m = StateManager()\n",
    "m.dataframe()"
   ]
  },
  {
   "cell_type": "code",
   "execution_count": 16,
   "metadata": {},
   "outputs": [
    {
     "data": {
      "text/plain": [
       "'9fd0a6a8926f83924e0c50ea0de43aec789c2c2f'"
      ]
     },
     "execution_count": 16,
     "metadata": {},
     "output_type": "execute_result"
    }
   ],
   "source": [
    "m.id"
   ]
  },
  {
   "cell_type": "code",
   "execution_count": 17,
   "metadata": {},
   "outputs": [
    {
     "data": {
      "text/plain": [
       "{'data': {'dataset': {'trainset': {}, 'validset': {}, 'testset': {}},\n",
       "  'dataloader': {'train_loader': {}, 'valid_loader': {}}},\n",
       " 'model': {'state_dict': None, 'arch': None, 'object': None},\n",
       " 'metrics': {'train': {'loss': {'val': [],\n",
       "    'mean': [],\n",
       "    'std': [],\n",
       "    'epoch': []}},\n",
       "  'valid': {'loss': {'val': [], 'mean': [], 'std': [], 'epoch': []}},\n",
       "  'test': {'loss': {'val': [], 'mean': [], 'std': [], 'epoch': []}}},\n",
       " 'optimizer': {},\n",
       " 'scheduler': {},\n",
       " 'trainer': {'id': '',\n",
       "  'name': '',\n",
       "  'desc': '',\n",
       "  'epoch': {'start': 0,\n",
       "   'curr': 0,\n",
       "   'num': 0,\n",
       "   'time': [],\n",
       "   'time_start': 0,\n",
       "   'time_end': 0,\n",
       "   'remain': []},\n",
       "  'created': '',\n",
       "  'modified': ''}}"
      ]
     },
     "execution_count": 17,
     "metadata": {},
     "output_type": "execute_result"
    }
   ],
   "source": [
    "m.load('2c1fbdf09b53e928a1661e1f0b46b055a1652ae1')"
   ]
  },
  {
   "cell_type": "code",
   "execution_count": 18,
   "metadata": {},
   "outputs": [
    {
     "data": {
      "text/plain": [
       "{'data': {'dataset': {'trainset': {}, 'validset': {}, 'testset': {}},\n",
       "  'dataloader': {'train_loader': {}, 'valid_loader': {}}},\n",
       " 'model': {'state_dict': None, 'arch': None, 'object': None},\n",
       " 'metrics': {'train': {'loss': {'val': [],\n",
       "    'mean': [],\n",
       "    'std': [],\n",
       "    'epoch': []}},\n",
       "  'valid': {'loss': {'val': [], 'mean': [], 'std': [], 'epoch': []}},\n",
       "  'test': {'loss': {'val': [], 'mean': [], 'std': [], 'epoch': []}}},\n",
       " 'optimizer': {},\n",
       " 'scheduler': {},\n",
       " 'trainer': {'id': '',\n",
       "  'name': '',\n",
       "  'desc': '',\n",
       "  'epoch': {'start': 0,\n",
       "   'curr': 0,\n",
       "   'num': 0,\n",
       "   'time': [],\n",
       "   'time_start': 0,\n",
       "   'time_end': 0,\n",
       "   'remain': []},\n",
       "  'created': '',\n",
       "  'modified': ''}}"
      ]
     },
     "execution_count": 18,
     "metadata": {},
     "output_type": "execute_result"
    }
   ],
   "source": [
    "m.state"
   ]
  },
  {
   "cell_type": "code",
   "execution_count": null,
   "metadata": {},
   "outputs": [],
   "source": []
  }
 ],
 "metadata": {
  "kernelspec": {
   "display_name": "Python 3",
   "language": "python",
   "name": "python3"
  },
  "language_info": {
   "codemirror_mode": {
    "name": "ipython",
    "version": 3
   },
   "file_extension": ".py",
   "mimetype": "text/x-python",
   "name": "python",
   "nbconvert_exporter": "python",
   "pygments_lexer": "ipython3",
   "version": "3.7.3"
  }
 },
 "nbformat": 4,
 "nbformat_minor": 2
}

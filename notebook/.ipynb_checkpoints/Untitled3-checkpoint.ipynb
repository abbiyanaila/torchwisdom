{
 "cells": [
  {
   "cell_type": "code",
   "execution_count": 1,
   "metadata": {},
   "outputs": [],
   "source": [
    "import requests\n",
    "import urllib3\n",
    "import plotly\n",
    "import json\n",
    "urllib3.disable_warnings()"
   ]
  },
  {
   "cell_type": "code",
   "execution_count": 17,
   "metadata": {},
   "outputs": [],
   "source": [
    "base_url = \"https://pemilu2019.kpu.go.id/static/json/\"\n",
    "url_list = {\n",
    "    'summary': base_url + 'hhcw/ppwp.json',\n",
    "    'wilayah': base_url + 'wilayah/0.json'\n",
    "}\n",
    "url_list"
   ]
  },
  {
   "cell_type": "code",
   "execution_count": 20,
   "metadata": {},
   "outputs": [],
   "source": []
  },
  {
   "cell_type": "code",
   "execution_count": 3,
   "metadata": {},
   "outputs": [],
   "source": [
    "def id_name_map():\n",
    "    req = requests.get(url_list['wilayah'], verify=False)\n",
    "    re = req.json()\n",
    "    kname = {}\n",
    "    for k in re.keys():\n",
    "        kname.update({k:re[k]['nama']})\n",
    "    return kname\n",
    "\n",
    "def id_to_name(id):\n",
    "    return id_name_map()[id]\n",
    "\n",
    "def clean_int(str_in):\n",
    "    try:\n",
    "        return int(str_in)\n",
    "    except:\n",
    "        return False\n",
    "\n",
    "def summary():\n",
    "    req = requests.get(url_list['summary'], verify=False)\n",
    "    re = req.json()\n",
    "    re_table = re['table']\n",
    "    idname_map = id_name_map()\n",
    "    table = {}\n",
    "    for key, val in re_table.items():\n",
    "        if clean_int(key):\n",
    "            key = idname_map[key]\n",
    "            table.update({key: val})\n",
    "        else:\n",
    "            table.update({key: val})\n",
    "    re['table'] = table\n",
    "    return re"
   ]
  },
  {
   "cell_type": "code",
   "execution_count": 4,
   "metadata": {},
   "outputs": [
    {
     "data": {
      "text/plain": [
       "{'summary': 'https://pemilu2019.kpu.go.id/static/json/hhcw/ppwp.json',\n",
       " 'wilayah': 'https://pemilu2019.kpu.go.id/static/json/wilayah/0.json'}"
      ]
     },
     "execution_count": 4,
     "metadata": {},
     "output_type": "execute_result"
    }
   ],
   "source": [
    "url_list"
   ]
  },
  {
   "cell_type": "code",
   "execution_count": 91,
   "metadata": {},
   "outputs": [
    {
     "data": {
      "text/plain": [
       "'https://pemilu2019.kpu.go.id/static/json/'"
      ]
     },
     "execution_count": 91,
     "metadata": {},
     "output_type": "execute_result"
    }
   ],
   "source": [
    "https://pemilu2019.kpu.go.id/static/json/hhcw/ppwp.json Umum\n",
    "https://pemilu2019.kpu.go.id/static/json/hhcw/ppwp/22328.json Propinsi\n",
    "\n",
    "\n",
    "\n",
    "https://pemilu2019.kpu.go.id/static/json/hhcw/ppwp/32676.json   /Propinsi JATENG\n",
    "https://pemilu2019.kpu.go.id/static/json/hhcw/ppwp/32676/33345.json  /Kabupaten Purbalingga\n",
    "https://pemilu2019.kpu.go.id/static/json/hhcw/ppwp/32676/33345/33366.json  /Kecamatan Bukateja\n",
    "https://pemilu2019.kpu.go.id/static/json/hhcw/ppwp/32676/33345/33366/33377.json  /Desa Kedungjati\n",
    "https://pemilu2019.kpu.go.id/static/json/hhcw/ppwp/32676/33345/33366/33377/900334282.json  tps 16\n",
    "https://pemilu2019.kpu.go.id/static/json/hhcw/ppwp/32676/33345/33366/33377/900334267.json /tps1"
   ]
  },
  {
   "cell_type": "code",
   "execution_count": null,
   "metadata": {},
   "outputs": [
    {
     "name": "stdout",
     "output_type": "stream",
     "text": [
      "https://pemilu2019.kpu.go.id/static/json/hhcw/ppwp.json/1.json\n",
      "https://pemilu2019.kpu.go.id/static/json/hhcw/ppwp.json/-99.json\n",
      "https://pemilu2019.kpu.go.id/static/json/hhcw/ppwp.json/6728.json\n",
      "https://pemilu2019.kpu.go.id/static/json/hhcw/ppwp.json/12920.json\n",
      "https://pemilu2019.kpu.go.id/static/json/hhcw/ppwp.json/14086.json\n"
     ]
    }
   ],
   "source": [
    "# objective : ambil url khusus tps saja dari seluruh data di indonesia\n",
    "base_wilayah_url = \"https://pemilu2019.kpu.go.id/static/json/hhcw/ppwp\"\n",
    "def request_data(url):\n",
    "    req = requests.get(url, verify=False)\n",
    "    if req.status_code == 200:\n",
    "        data = req.json()\n",
    "        return data\n",
    "    else:\n",
    "        return None\n",
    "\n",
    "    \n",
    "    \n",
    "import time\n",
    "    \n",
    "# rd = request_data(url_list['summary'])\n",
    "# def recursive_run(rd, kk=None):\n",
    "#     if rd and 'table' in rd.keys():\n",
    "#         for k1 in rd['table'].keys():\n",
    "#             prop = base_wilayah_url+\"/\"+k1+\".json\"\n",
    "#             time.sleep(1)\n",
    "#             print(prop)\n",
    "            \n",
    "#             res1 = request_data(prop)\n",
    "#             if res1 and 'table' in res.keys():\n",
    "#                 for k2 in res1['table'].keys():\n",
    "#                     prop = base_wilayah_url+\"/\"+k1+\"/\"+k2+\".json\"\n",
    "#                     time.sleep(1)\n",
    "#                     print(prop)\n",
    "                    \n",
    "#                     res2 = request_data(prop)\n",
    "#                     if res2 and 'table' in res2.keys():\n",
    "#                         for k3 in res2['table'].keys():\n",
    "#                             prop = base_wilayah_url+\"/\"+k1+\"/\"+k2+\"/\"+k3+\".json\"\n",
    "#                             time.sleep(1)\n",
    "#                             print(prop)\n",
    "                            \n",
    "#                             res3 = request_data(prop)\n",
    "#                             if res3 and 'table' in res3.keys():\n",
    "#                                 for k4 in res3['table'].keys():\n",
    "#                                     prop = base_wilayah_url+\"/\"+k1+\"/\"+k2+\"/\"+k3+\"/\"+k4+\".json\"\n",
    "#                                     time.sleep(1)\n",
    "#                                     print(prop)\n",
    "                                \n",
    "#                                     res4 = request_data(prop)\n",
    "#                                     if res4 and 'table' in res4.keys():\n",
    "#                                         for k5 in res4['table'].keys():\n",
    "#                                             prop = base_wilayah_url+\"/\"+k1+\"/\"+k2+\"/\"+k3+\"/\"+k4+\"/\"+k5+\".json\"\n",
    "#                                             time.sleep(1)\n",
    "#                                             print(prop)\n",
    "                                            \n",
    "#                                             res5 = request_data(prop)\n",
    "#                                             if res5 and 'table' in res4.keys():\n",
    "#                                                 for k6 in res5['table'].keys():\n",
    "#                                                     prop = base_wilayah_url+\"/\"+k1+\"/\"+k2+\"/\"+k3+\"/\"+k4+\"/\"+k5+\"/\"+k6+\".json\"\n",
    "#                                                     time.sleep(1)\n",
    "#                                                     print(prop)\n",
    "#                                             elif len(res5.keys())==0 or 'suara_sah' in res5.keys():\n",
    "#                                                 prop = base_wilayah_url+\"/\"+k1+\"/\"+k2+\"/\"+k3+\"/\"+k4+\"/\"+k5+\".json\"\n",
    "#                                                 time.sleep(1)\n",
    "#                                                 print(prop, \" this is end \")\n",
    "#                                             else:\n",
    "#                                                 pass\n",
    "                                            \n",
    "                                            \n",
    "\n",
    "                    \n",
    "                    \n",
    "base_wilayah_url = \"https://pemilu2019.kpu.go.id/static/json/hhcw/ppwp.json\"                \n",
    "res = request_data(base_wilayah_url)               \n",
    "def general_rec(res, kpar=None):\n",
    "    if res:\n",
    "        if 'table' in res.keys():\n",
    "            for k in res['table'].keys():\n",
    "                if kpar==None:\n",
    "                    prop = base_wilayah_url+\"/\"+k+\".json\"\n",
    "                else:\n",
    "                    prop = base_wilayah_url+\"/\"+kpar+\"/\"+k+\".json\"\n",
    "                \n",
    "                print(prop)\n",
    "                time.sleep(1)\n",
    "                res_rec = request_data(prop)\n",
    "                general_rec(res_rec, k)\n",
    "        elif 'suara_sah' in res.keys() or len(res)==0:\n",
    "            # save url\n",
    "            pass\n",
    "        else:\n",
    "            pass\n",
    "    \n",
    "    \n",
    "general_rec(res)"
   ]
  },
  {
   "cell_type": "code",
   "execution_count": 75,
   "metadata": {},
   "outputs": [
    {
     "data": {
      "text/plain": [
       "{'ts': '2019-04-22 02:15:03',\n",
       " 'chart': {'21': 12118086, '22': 9952084},\n",
       " 'table': {'ACEH': {'21': 85608, '22': 384131},\n",
       "  '+Luar Negeri': {'21': 195919, '22': 71758},\n",
       "  'SUMATERA UTARA': {'21': 651767, '22': 529600},\n",
       "  'SUMATERA BARAT': {'21': 130766, '22': 844014},\n",
       "  'RIAU': {'21': 208899, '22': 313547},\n",
       "  'JAMBI': {'21': 142612, '22': 186063},\n",
       "  'SUMATERA SELATAN': {'21': 421037, '22': 627054},\n",
       "  'BENGKULU': {'21': 465293, '22': 467097},\n",
       "  'LAMPUNG': {'21': 465657, '22': 367765},\n",
       "  'KEPULAUAN BANGKA BELITUNG': {'21': 144964, '22': 73486},\n",
       "  'KEPULAUAN RIAU': {'21': 195975, '22': 149196},\n",
       "  'DKI JAKARTA': {'21': 650101, '22': 571093},\n",
       "  'JAWA BARAT': {'21': 949460, '22': 1063892},\n",
       "  'JAWA TENGAH': {'21': 2387936, '22': 703670},\n",
       "  'DAERAH ISTIMEWA YOGYAKARTA': {'21': 434283, '22': 179577},\n",
       "  'JAWA TIMUR': {'21': 1664635, '22': 718559},\n",
       "  'BANTEN': {'21': 248558, '22': 429569},\n",
       "  'BALI': {'21': 332234, '22': 28124},\n",
       "  'NUSA TENGGARA BARAT': {'21': 151233, '22': 306194},\n",
       "  'NUSA TENGGARA TIMUR': {'21': 257502, '22': 28142},\n",
       "  'KALIMANTAN BARAT': {'21': 264156, '22': 272699},\n",
       "  'KALIMANTAN TENGAH': {'21': 146455, '22': 93079},\n",
       "  'KALIMANTAN SELATAN': {'21': 75357, '22': 163368},\n",
       "  'KALIMANTAN TIMUR': {'21': 169530, '22': 132091},\n",
       "  'SULAWESI UTARA': {'21': 175765, '22': 77464},\n",
       "  'SULAWESI TENGAH': {'21': 82011, '22': 71588},\n",
       "  'SULAWESI SELATAN': {'21': 389709, '22': 483511},\n",
       "  'SULAWESI TENGGARA': {'21': 227494, '22': 330996},\n",
       "  'GORONTALO': {'21': 166383, '22': 156872},\n",
       "  'SULAWESI BARAT': {'21': 74373, '22': 43326},\n",
       "  'MALUKU': {'21': 63595, '22': 32000},\n",
       "  'MALUKU UTARA': {'21': 18575, '22': 23891},\n",
       "  'PAPUA': {'21': 23207, '22': 5125},\n",
       "  'PAPUA BARAT': {'21': 6969, '22': 1161},\n",
       "  'KALIMANTAN UTARA': {'21': 50068, '22': 22382}},\n",
       " 'progress': {'total': 813350, 'proses': 116077}}"
      ]
     },
     "execution_count": 75,
     "metadata": {},
     "output_type": "execute_result"
    }
   ],
   "source": [
    "data"
   ]
  },
  {
   "cell_type": "code",
   "execution_count": 67,
   "metadata": {},
   "outputs": [
    {
     "data": {
      "text/plain": [
       "<bound method DataFrame.sort_index of                       provinsi   jokowi  prabowo\n",
       "0                         ACEH    73427   335819\n",
       "1                 +Luar Negeri   155113    56543\n",
       "2               SUMATERA UTARA   516764   453030\n",
       "3               SUMATERA BARAT   111704   706461\n",
       "4                         RIAU   152473   230259\n",
       "5                        JAMBI   122270   160189\n",
       "6             SUMATERA SELATAN   318874   517233\n",
       "7                     BENGKULU   403506   388007\n",
       "8                      LAMPUNG   419767   336413\n",
       "9    KEPULAUAN BANGKA BELITUNG   131602    66968\n",
       "10              KEPULAUAN RIAU   169346   125398\n",
       "11                 DKI JAKARTA   579809   497694\n",
       "12                  JAWA BARAT   755654   871340\n",
       "13                 JAWA TENGAH  1930343   578562\n",
       "14  DAERAH ISTIMEWA YOGYAKARTA   264074   110240\n",
       "15                  JAWA TIMUR  1380299   593739\n",
       "16                      BANTEN   187355   336982\n",
       "17                        BALI   260814    22301\n",
       "18         NUSA TENGGARA BARAT   128503   257933\n",
       "19         NUSA TENGGARA TIMUR   131023    13299\n",
       "20            KALIMANTAN BARAT   194315   222484\n",
       "21           KALIMANTAN TENGAH   117570    72535\n",
       "22          KALIMANTAN SELATAN    67220   146514\n",
       "23            KALIMANTAN TIMUR   133228   108060\n",
       "24              SULAWESI UTARA   118414    57251\n",
       "25             SULAWESI TENGAH    43410    39382\n",
       "26            SULAWESI SELATAN   292335   353283\n",
       "27           SULAWESI TENGGARA   148844   209507\n",
       "28                   GORONTALO   150112   141518\n",
       "29              SULAWESI BARAT    65457    38356\n",
       "30                      MALUKU    50135    26359\n",
       "31                MALUKU UTARA    14498    18272\n",
       "32                       PAPUA    15416     3873\n",
       "33                 PAPUA BARAT     5888      688\n",
       "34            KALIMANTAN UTARA    41242    17754>"
      ]
     },
     "execution_count": 67,
     "metadata": {},
     "output_type": "execute_result"
    }
   ],
   "source": [
    "import pandas as pd\n",
    "from collections import OrderedDict\n",
    "dframe = {'provinsi':[],'jokowi':[],'prabowo':[]}\n",
    "for k,v in data['table'].items():\n",
    "    dframe['provinsi'].append(k)\n",
    "    dframe['jokowi'].append(v['21'])\n",
    "    dframe['prabowo'].append(v['22'])\n",
    "df = pd.DataFrame(dframe)\n"
   ]
  },
  {
   "cell_type": "code",
   "execution_count": 50,
   "metadata": {},
   "outputs": [
    {
     "name": "stdout",
     "output_type": "stream",
     "text": [
      "test\n"
     ]
    }
   ],
   "source": [
    "a = {}\n",
    "if len(a.keys())==0 :\n",
    "    print(\"test\")"
   ]
  },
  {
   "cell_type": "code",
   "execution_count": null,
   "metadata": {},
   "outputs": [],
   "source": []
  }
 ],
 "metadata": {
  "kernelspec": {
   "display_name": "Python 3",
   "language": "python",
   "name": "python3"
  },
  "language_info": {
   "codemirror_mode": {
    "name": "ipython",
    "version": 3
   },
   "file_extension": ".py",
   "mimetype": "text/x-python",
   "name": "python",
   "nbconvert_exporter": "python",
   "pygments_lexer": "ipython3",
   "version": "3.7.3"
  }
 },
 "nbformat": 4,
 "nbformat_minor": 2
}
